{
 "cells": [
  {
   "cell_type": "markdown",
   "metadata": {},
   "source": [
    "# Projeto 2 - Ciência dos Dados"
   ]
  },
  {
   "cell_type": "markdown",
   "metadata": {},
   "source": [
    "Nome: Pedro Braga Carani\n",
    "\n",
    "Nome: Gustavo Rodrigues Pazemeckas"
   ]
  },
  {
   "cell_type": "markdown",
   "metadata": {},
   "source": [
    "Serão permitidos grupos de três pessoas, mas com uma rubrica mais exigente. Grupos deste tamanho precisarão fazer um questionário de avaliação de trabalho em equipe"
   ]
  },
  {
   "cell_type": "markdown",
   "metadata": {},
   "source": [
    "___\n",
    "# Classificador automático de sentimento\n"
   ]
  },
  {
   "cell_type": "markdown",
   "metadata": {},
   "source": [
    "## Preparando o ambiente no jupyter:"
   ]
  },
  {
   "cell_type": "code",
   "execution_count": 21,
   "metadata": {},
   "outputs": [],
   "source": [
    "%%capture\n",
    "\n",
    "#Instalando o tweepy\n",
    "!pip install tweepy"
   ]
  },
  {
   "cell_type": "code",
   "execution_count": 22,
   "metadata": {
    "jupyter": {
     "outputs_hidden": true
    }
   },
   "outputs": [],
   "source": [
    "import tweepy\n",
    "import math\n",
    "import os.path\n",
    "import pandas as pd\n",
    "import json\n",
    "from random import shuffle"
   ]
  },
  {
   "cell_type": "markdown",
   "metadata": {},
   "source": [
    "___\n",
    "## Autenticando no  Twitter\n",
    "\n",
    "* Conta: ***[Preencha aqui o id da sua conta. Ex: @fulano ]***"
   ]
  },
  {
   "cell_type": "code",
   "execution_count": 23,
   "metadata": {
    "jupyter": {
     "outputs_hidden": true
    }
   },
   "outputs": [],
   "source": [
    "#Dados de autenticação do twitter:\n",
    "\n",
    "#Coloque aqui o identificador da conta no twitter: @fulano\n",
    "\n",
    "#leitura do arquivo no formato JSON\n",
    "with open('auth.pass') as fp:    \n",
    "    data = json.load(fp)\n",
    "\n",
    "#Configurando a biblioteca. Não modificar\n",
    "auth = tweepy.OAuthHandler(data['consumer_key'], data['consumer_secret'])\n",
    "auth.set_access_token(data['access_token'], data['access_token_secret'])"
   ]
  },
  {
   "cell_type": "markdown",
   "metadata": {},
   "source": [
    "___\n",
    "## Etapas do projeto:"
   ]
  },
  {
   "cell_type": "markdown",
   "metadata": {},
   "source": [
    "### Escolha de um produto e coleta das mensagens\n"
   ]
  },
  {
   "cell_type": "code",
   "execution_count": 24,
   "metadata": {
    "jupyter": {
     "outputs_hidden": true
    }
   },
   "outputs": [],
   "source": [
    "#Produto escolhido:\n",
    "produto = 'fone jbl'\n",
    "\n",
    "#Quantidade mínima de mensagens capturadas:\n",
    "n = 500\n",
    "#Quantidade mínima de mensagens para a base de treinamento:\n",
    "t = 300\n",
    "\n",
    "#Filtro de língua, escolha uma na tabela ISO 639-1.\n",
    "lang = 'pt'"
   ]
  },
  {
   "cell_type": "markdown",
   "metadata": {},
   "source": [
    "Capturando os dados do twitter:"
   ]
  },
  {
   "cell_type": "code",
   "execution_count": 25,
   "metadata": {
    "jupyter": {
     "outputs_hidden": true
    }
   },
   "outputs": [],
   "source": [
    "#Cria um objeto para a captura\n",
    "api = tweepy.API(auth)\n",
    "\n",
    "#Inicia a captura, para mais detalhes: ver a documentação do tweepy\n",
    "i = 1\n",
    "msgs = []\n",
    "for msg in tweepy.Cursor(api.search, q=produto, lang=lang, tweet_mode=\"extended\").items():    \n",
    "    msgs.append(msg.full_text.lower())\n",
    "    i += 1\n",
    "    if i > n:\n",
    "        break\n",
    "\n",
    "#Embaralhando as mensagens para reduzir um possível viés\n",
    "shuffle(msgs)"
   ]
  },
  {
   "cell_type": "markdown",
   "metadata": {},
   "source": [
    "Salvando os dados em uma planilha Excel:"
   ]
  },
  {
   "cell_type": "code",
   "execution_count": 26,
   "metadata": {
    "jupyter": {
     "outputs_hidden": true
    }
   },
   "outputs": [],
   "source": [
    "#Verifica se o arquivo não existe para não substituir um conjunto pronto\n",
    "if not os.path.isfile('./{0}.xlsx'.format(produto)):\n",
    "    \n",
    "    #Abre o arquivo para escrita\n",
    "    writer = pd.ExcelWriter('{0}.xlsx'.format(produto))\n",
    "\n",
    "    #divide o conjunto de mensagens em duas planilhas\n",
    "    dft = pd.DataFrame({'Treinamento' : pd.Series(msgs[:t])})\n",
    "    dft.to_excel(excel_writer = writer, sheet_name = 'Treinamento', index = False)\n",
    "\n",
    "    dfc = pd.DataFrame({'Teste' : pd.Series(msgs[t:])})\n",
    "    dfc.to_excel(excel_writer = writer, sheet_name = 'Teste', index = False)\n",
    "\n",
    "    #fecha o arquivo\n",
    "    writer.save()"
   ]
  },
  {
   "cell_type": "markdown",
   "metadata": {},
   "source": [
    "___\n",
    "### Classificando as mensagens na coragem\n",
    "\n",
    "Esta etapa é manual. Faça a mesma pelo Excel.\n",
    "\n",
    "No projeto o tweet foi classificado como relevante quando ele possui uma crítica ao produto seja ela positiva ou negativa. Logo, quando não houve crítica, o tweet foi considerado irrelevante.\n",
    "\n",
    "Foi classificado 300 tweets no treinamento. \n"
   ]
  },
  {
   "cell_type": "markdown",
   "metadata": {},
   "source": [
    "___\n",
    "### Montando o Classificador Naive-Bayes\n",
    "\n",
    "   Considerando apenas as mensagens da planilha Treinamento, ensine  seu classificador.\n",
    "    \n",
    "   Antes da montagem do Classificador, utilizamos a função \"cleanup\" para limpar os caracteres que podem atrapalhar na leitura dos dados. \n",
    "   "
   ]
  },
  {
   "cell_type": "markdown",
   "metadata": {},
   "source": [
    "### Função Cleanup\n"
   ]
  },
  {
   "cell_type": "code",
   "execution_count": 27,
   "metadata": {},
   "outputs": [],
   "source": [
    "import re \n",
    "\n",
    "def cleanup(text):\n",
    "\n",
    "    punctuation = '[!\\-.:?;#/,\\n https]' \n",
    "    pattern = re.compile(punctuation)\n",
    "    text_subbed = re.sub(pattern, ' ', text)\n",
    "    return text_subbed    "
   ]
  },
  {
   "cell_type": "markdown",
   "metadata": {},
   "source": [
    "### Lendo o arquivo Treinamento"
   ]
  },
  {
   "cell_type": "code",
   "execution_count": 28,
   "metadata": {},
   "outputs": [],
   "source": [
    "fone_Treinamento=pd.read_excel(\"fone jbl.xlsx\", sheet_name=\"Treinamento\")\n",
    "\n"
   ]
  },
  {
   "cell_type": "markdown",
   "metadata": {},
   "source": [
    "### Preparando as listas de frequências das palavras (relevantes e irrelevantes)"
   ]
  },
  {
   "cell_type": "code",
   "execution_count": 29,
   "metadata": {},
   "outputs": [],
   "source": [
    "#Relevantes\n",
    "fone_r=fone_Treinamento[fone_Treinamento[\"classificacao\"]==1]\n",
    "textor=\"\".join(fone_r[\"Treinamento\"])\n",
    "texto_cleanr=cleanup(textor)\n",
    "lista_r=texto_cleanr.split()\n",
    "freq_r=pd.Series(lista_r).value_counts(True)\n",
    "#freq_r\n",
    "\n",
    "\n",
    "#Irrelevantes\n",
    "fone_ir=fone_Treinamento[fone_Treinamento[\"classificacao\"]==0]\n",
    "textoi=\"\".join(fone_ir[\"Treinamento\"])\n",
    "texto_cleani=cleanup(textoi)\n",
    "lista_ir=texto_cleani.split()\n",
    "freq_ir=pd.Series(lista_ir).value_counts(True)\n",
    "#freq_ir\n",
    "\n",
    "soma_r=len(freq_r)\n",
    "soma_ir=len(freq_ir)\n",
    "\n",
    "total=soma_ir+soma_r"
   ]
  },
  {
   "cell_type": "markdown",
   "metadata": {},
   "source": [
    "# Classificador Naive-Bayes"
   ]
  },
  {
   "cell_type": "markdown",
   "metadata": {},
   "source": [
    "A proposta do Classificador é analisar as probalidades de um tweet ser relevante ou não dado que a frequência de cada palavra que está presente nesse mesmo tweet. Para isso, foi utilizado a tabela de frequências das palavras relevantes ou irrelevantes."
   ]
  },
  {
   "cell_type": "code",
   "execution_count": 30,
   "metadata": {},
   "outputs": [
    {
     "name": "stdout",
     "output_type": "stream",
     "text": [
      "1\n"
     ]
    },
    {
     "name": "stderr",
     "output_type": "stream",
     "text": [
      "/anaconda3/lib/python3.7/site-packages/ipykernel_launcher.py:13: FutureWarning: \n",
      "Passing list-likes to .loc or [] with any missing label will raise\n",
      "KeyError in the future, you can use .reindex() as an alternative.\n",
      "\n",
      "See the documentation here:\n",
      "https://pandas.pydata.org/pandas-docs/stable/indexing.html#deprecate-loc-reindex-listlike\n",
      "  del sys.path[0]\n",
      "/anaconda3/lib/python3.7/site-packages/ipykernel_launcher.py:15: FutureWarning: \n",
      "Passing list-likes to .loc or [] with any missing label will raise\n",
      "KeyError in the future, you can use .reindex() as an alternative.\n",
      "\n",
      "See the documentation here:\n",
      "https://pandas.pydata.org/pandas-docs/stable/indexing.html#deprecate-loc-reindex-listlike\n",
      "  from ipykernel import kernelapp as app\n"
     ]
    }
   ],
   "source": [
    "#Dados empiricos\n",
    "prelevante=0.69\n",
    "pirrelevante=0.31\n",
    "\n",
    "\n",
    "def Naive_Bayes_Treinamento(tweet):\n",
    "\n",
    "\n",
    "    frase=cleanup(tweet)\n",
    "    frase1=frase.split()\n",
    "\n",
    "    #P(Frase|Relevante)\n",
    "    Pfraserelevante=freq_r.loc[frase1].prod()\n",
    "    #P(Frase|Irrelevante)\n",
    "    Pfraseirrelevante=freq_ir.loc[frase1].prod()\n",
    "    \n",
    "    #P(Relevante|Frase)    \n",
    "    Prelevantefrase=Pfraserelevante*prelevante\n",
    "                    \n",
    "    #P(Irrelevante|Frase)\n",
    "    Pirrelevantefrase=Pfraseirrelevante*pirrelevante\n",
    "\n",
    "    if Prelevantefrase > Pirrelevantefrase:\n",
    "        return 1 #Relevante\n",
    "    \n",
    "    else:\n",
    "        return 0 #Irrelevante\n",
    "    \n",
    "#Exemplo\n",
    "print (Naive_Bayes_Treinamento(\"Fone da Jbl é bom\"))\n",
    "                        "
   ]
  },
  {
   "cell_type": "markdown",
   "metadata": {},
   "source": [
    "___\n",
    "### Verificando a performance\n",
    "\n",
    "Para a verificação da performance, foi utilizado os tweets da planilha Teste. \n"
   ]
  },
  {
   "cell_type": "markdown",
   "metadata": {},
   "source": [
    "### Lendo o arquivo Teste"
   ]
  },
  {
   "cell_type": "code",
   "execution_count": 31,
   "metadata": {},
   "outputs": [],
   "source": [
    "fone_teste=pd.read_excel(\"fone jbl.xlsx\", sheet_name=\"Teste\")"
   ]
  },
  {
   "cell_type": "markdown",
   "metadata": {},
   "source": [
    "### Classificador Naive-Bayes com Laplace\n",
    "\n",
    "Como nem todas as palavras presentes no tweets \"Teste\" estavam presentes tambem nos tweets \"Treinamento\", foi necessário a utilização do algoritmo de Laplace smoothing. "
   ]
  },
  {
   "cell_type": "code",
   "execution_count": 32,
   "metadata": {},
   "outputs": [
    {
     "name": "stderr",
     "output_type": "stream",
     "text": [
      "/anaconda3/lib/python3.7/site-packages/ipykernel_launcher.py:35: SettingWithCopyWarning: \n",
      "A value is trying to be set on a copy of a slice from a DataFrame\n",
      "\n",
      "See the caveats in the documentation: http://pandas.pydata.org/pandas-docs/stable/indexing.html#indexing-view-versus-copy\n",
      "/anaconda3/lib/python3.7/site-packages/ipykernel_launcher.py:39: SettingWithCopyWarning: \n",
      "A value is trying to be set on a copy of a slice from a DataFrame\n",
      "\n",
      "See the caveats in the documentation: http://pandas.pydata.org/pandas-docs/stable/indexing.html#indexing-view-versus-copy\n"
     ]
    }
   ],
   "source": [
    "\n",
    "prelevante=0.69\n",
    "pirrelevante=0.31\n",
    "i=0\n",
    "#Naive_Bayes com Laplace\n",
    "for t in fone_teste[\"Teste\"]:\n",
    "\n",
    "    tweet=t\n",
    "    frase=cleanup(tweet)\n",
    "    frase1=frase.split()\n",
    "    Prelevantefrase=0\n",
    "    Pirrelevantefrase=0\n",
    "    for p in frase1:\n",
    "        try:  \n",
    "            #P(Frase|Irrelevante)\n",
    "            Pfraseirrelevante=freq_ir.loc[p].prod()\n",
    "\n",
    "                    \n",
    "            #P(Irrelevante|Frase)\n",
    "            Pirrelevantefrase=Pfraseirrelevante*pirrelevante\n",
    "        \n",
    "            #P(Frase|Relevante)\n",
    "            Pfraserelevante=freq_r.loc[p].prod()\n",
    "            #P(Relevante|Frase)    \n",
    "            Prelevantefrase=Pfraserelevante*prelevante\n",
    "\n",
    "        except:\n",
    "\n",
    "                    \n",
    "            Prelevantefrase += 1/(soma_r + total)\n",
    "            Pirrelevantefrase +=1/(soma_ir + total)\n",
    "\n",
    "\n",
    "    if Prelevantefrase > Pirrelevantefrase:\n",
    "        fone_teste[\"Verifica\"][i]=1\n",
    "        #Relevante\n",
    "    \n",
    "    else:\n",
    "        fone_teste[\"Verifica\"][i]=0\n",
    "        #Irrelevante\n",
    "    \n",
    "    i+=1\n"
   ]
  },
  {
   "cell_type": "code",
   "execution_count": 33,
   "metadata": {},
   "outputs": [
    {
     "data": {
      "text/html": [
       "<div>\n",
       "<style scoped>\n",
       "    .dataframe tbody tr th:only-of-type {\n",
       "        vertical-align: middle;\n",
       "    }\n",
       "\n",
       "    .dataframe tbody tr th {\n",
       "        vertical-align: top;\n",
       "    }\n",
       "\n",
       "    .dataframe thead th {\n",
       "        text-align: right;\n",
       "    }\n",
       "</style>\n",
       "<table border=\"1\" class=\"dataframe\">\n",
       "  <thead>\n",
       "    <tr style=\"text-align: right;\">\n",
       "      <th></th>\n",
       "      <th>Teste</th>\n",
       "      <th>Classificacao</th>\n",
       "      <th>Verifica</th>\n",
       "    </tr>\n",
       "  </thead>\n",
       "  <tbody>\n",
       "    <tr>\n",
       "      <th>0</th>\n",
       "      <td>eu nao tenho sorte com fone cara, nao deu 1 me...</td>\n",
       "      <td>1</td>\n",
       "      <td>1.0</td>\n",
       "    </tr>\n",
       "    <tr>\n",
       "      <th>1</th>\n",
       "      <td>ouvir música 8d no fone jbl e um caminho sem v...</td>\n",
       "      <td>1</td>\n",
       "      <td>1.0</td>\n",
       "    </tr>\n",
       "    <tr>\n",
       "      <th>2</th>\n",
       "      <td>amanhã vou tomar vergonha na cara e comprar um...</td>\n",
       "      <td>1</td>\n",
       "      <td>1.0</td>\n",
       "    </tr>\n",
       "    <tr>\n",
       "      <th>3</th>\n",
       "      <td>rt @kadashil: bom dia me dá um fone da jbl pfv</td>\n",
       "      <td>0</td>\n",
       "      <td>1.0</td>\n",
       "    </tr>\n",
       "    <tr>\n",
       "      <th>4</th>\n",
       "      <td>fone de ouvido in-ear, jbl, = https://t.co/ojo...</td>\n",
       "      <td>0</td>\n",
       "      <td>0.0</td>\n",
       "    </tr>\n",
       "  </tbody>\n",
       "</table>\n",
       "</div>"
      ],
      "text/plain": [
       "                                               Teste  Classificacao  Verifica\n",
       "0  eu nao tenho sorte com fone cara, nao deu 1 me...              1       1.0\n",
       "1  ouvir música 8d no fone jbl e um caminho sem v...              1       1.0\n",
       "2  amanhã vou tomar vergonha na cara e comprar um...              1       1.0\n",
       "3     rt @kadashil: bom dia me dá um fone da jbl pfv              0       1.0\n",
       "4  fone de ouvido in-ear, jbl, = https://t.co/ojo...              0       0.0"
      ]
     },
     "execution_count": 33,
     "metadata": {},
     "output_type": "execute_result"
    }
   ],
   "source": [
    "fone_teste.head(5)"
   ]
  },
  {
   "cell_type": "code",
   "execution_count": 34,
   "metadata": {},
   "outputs": [
    {
     "data": {
      "text/html": [
       "<div>\n",
       "<style scoped>\n",
       "    .dataframe tbody tr th:only-of-type {\n",
       "        vertical-align: middle;\n",
       "    }\n",
       "\n",
       "    .dataframe tbody tr th {\n",
       "        vertical-align: top;\n",
       "    }\n",
       "\n",
       "    .dataframe thead th {\n",
       "        text-align: right;\n",
       "    }\n",
       "</style>\n",
       "<table border=\"1\" class=\"dataframe\">\n",
       "  <thead>\n",
       "    <tr style=\"text-align: right;\">\n",
       "      <th>Verifica</th>\n",
       "      <th>0.0</th>\n",
       "      <th>1.0</th>\n",
       "    </tr>\n",
       "    <tr>\n",
       "      <th>Classificacao</th>\n",
       "      <th></th>\n",
       "      <th></th>\n",
       "    </tr>\n",
       "  </thead>\n",
       "  <tbody>\n",
       "    <tr>\n",
       "      <th>0</th>\n",
       "      <td>10</td>\n",
       "      <td>21</td>\n",
       "    </tr>\n",
       "    <tr>\n",
       "      <th>1</th>\n",
       "      <td>1</td>\n",
       "      <td>28</td>\n",
       "    </tr>\n",
       "  </tbody>\n",
       "</table>\n",
       "</div>"
      ],
      "text/plain": [
       "Verifica       0.0  1.0\n",
       "Classificacao          \n",
       "0               10   21\n",
       "1                1   28"
      ]
     },
     "execution_count": 34,
     "metadata": {},
     "output_type": "execute_result"
    }
   ],
   "source": [
    "Classificacao=fone_teste[\"Classificacao\"]\n",
    "Verifica=fone_teste[\"Verifica\"]\n",
    "pd.crosstab(Classificacao, Verifica)"
   ]
  },
  {
   "cell_type": "code",
   "execution_count": 35,
   "metadata": {},
   "outputs": [],
   "source": [
    "verdadeiro_positivos=0\n",
    "falso_positivos=0\n",
    "verdadeiro_negativos=0\n",
    "falso_negativos=0\n",
    "total=verdadeiro_positivos+falso_positivos+verdadeiro_negativos+falso_negativos\n",
    "\n",
    "i=0\n",
    "for t in fone_teste[\"Verifica\"]:\n",
    "    if fone_teste[\"Verifica\"][i]== 1 and fone_teste[\"Classificacao\"][i]==0:\n",
    "        falso_positivos+=1\n",
    "    if fone_teste[\"Verifica\"][i]== 0 and fone_teste[\"Classificacao\"][i]==0:\n",
    "        verdadeiro_negativos+=1  \n",
    "    if fone_teste[\"Verifica\"][i]== 1 and fone_teste[\"Classificacao\"][i]==1:\n",
    "        verdadeiro_positivos+=1\n",
    "    if fone_teste[\"Verifica\"][i]== 0 and fone_teste[\"Classificacao\"][i]==1:\n",
    "        falso_negativos+=1\n",
    "    i+=1 \n",
    "total=verdadeiro_positivos+falso_positivos+verdadeiro_negativos+falso_negativos\n",
    "porcentagem_falso_positivos=(falso_positivos/total)*100\n",
    "porcentagem_verdadeiro_positivos=(verdadeiro_positivos/total)*100\n",
    "porcentagem_falso_negativos=(falso_negativos/total)*100\n",
    "porcentagem_verdadeiro_negativos=(verdadeiro_negativos/total)*100\n",
    "\n"
   ]
  },
  {
   "cell_type": "code",
   "execution_count": 36,
   "metadata": {
    "scrolled": true
   },
   "outputs": [
    {
     "name": "stdout",
     "output_type": "stream",
     "text": [
      "Porcentagem de verdadeiros positivos: 46%\n",
      "Porcentagem de falsos positivos: 35%\n",
      "Porcentagem de verdadeiros negativos: 16%\n",
      "Porcentagem de falsos negativos: 1%\n"
     ]
    }
   ],
   "source": [
    "print(\"Porcentagem de verdadeiros positivos: {}%\". format(int(porcentagem_verdadeiro_positivos)))\n",
    "print(\"Porcentagem de falsos positivos: {}%\". format(int(porcentagem_falso_positivos)))\n",
    "print(\"Porcentagem de verdadeiros negativos: {}%\". format(int(porcentagem_verdadeiro_negativos)))\n",
    "print(\"Porcentagem de falsos negativos: {}%\". format(int(porcentagem_falso_negativos)))"
   ]
  },
  {
   "cell_type": "markdown",
   "metadata": {},
   "source": [
    "___\n",
    "### Concluindo"
   ]
  },
  {
   "cell_type": "markdown",
   "metadata": {},
   "source": [
    "Após verificar a perfomance do Classificado Naives-Bayes com a base de testes foi possível observar que houve uma taxa de acerto relativamente alta, já que a base de treinamento não utiliza uma quantidade de tweets suficientes para uma análise mais consistente.\n",
    "       \n",
    "Sendo assim, uma possível melhoria para esse classificador seria um número maior de tweets analisados para uma precisão maior na tabela de frequências das palavras. Além disso, outra melhoria possível seria dividir os tweets em mais categorias, como por exemplo: bom, neutro ou ruim. Assim, a porcentagem de verdadeiros ou falsos positivos aumentará.\n",
    "       \n",
    "O algoritmo não pode ser realimentado pelos tweets já classificados, pois ainda há erros, e quando realimentado, diminuirá ainda mais a \"precisão\" do classificador.\n",
    "       \n",
    "Um dos possíveis cenários que o classificador pode ser útil é nos serviços de streaming, como por exemplo, na avaliação de um filme de um certo genêro dado que os outros filmes desse mesmo genêro possuem tal avalição."
   ]
  },
  {
   "cell_type": "markdown",
   "metadata": {},
   "source": [
    "# Referências"
   ]
  },
  {
   "cell_type": "markdown",
   "metadata": {},
   "source": [
    "[Naive Bayes and Text Classification](https://arxiv.org/pdf/1410.5329.pdf)  **Mais completo**\n",
    "\n",
    "[A practical explanation of a Naive Bayes Classifier](https://monkeylearn.com/blog/practical-explanation-naive-bayes-classifier/) **Mais simples**"
   ]
  }
 ],
 "metadata": {
  "kernelspec": {
   "display_name": "Python 3",
   "language": "python",
   "name": "python3"
  },
  "language_info": {
   "codemirror_mode": {
    "name": "ipython",
    "version": 3
   },
   "file_extension": ".py",
   "mimetype": "text/x-python",
   "name": "python",
   "nbconvert_exporter": "python",
   "pygments_lexer": "ipython3",
   "version": "3.7.1"
  }
 },
 "nbformat": 4,
 "nbformat_minor": 4
}
